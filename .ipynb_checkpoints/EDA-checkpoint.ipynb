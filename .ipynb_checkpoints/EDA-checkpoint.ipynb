{
 "cells": [
  {
   "cell_type": "code",
   "execution_count": 1,
   "id": "28640989",
   "metadata": {},
   "outputs": [],
   "source": [
    "import pandas as pd\n",
    "import numpy as np\n",
    "import matplotlib.pyplot as plt"
   ]
  },
  {
   "cell_type": "markdown",
   "id": "ec6307fe",
   "metadata": {},
   "source": [
    "# Loading Data"
   ]
  },
  {
   "cell_type": "code",
   "execution_count": 2,
   "id": "e3dadc67",
   "metadata": {},
   "outputs": [],
   "source": [
    "df = pd.read_csv('datasets/NCHS_Death_rates_and_life_expectancy_at_birth.csv')"
   ]
  },
  {
   "cell_type": "markdown",
   "id": "8514aac8",
   "metadata": {},
   "source": [
    "# Exploring Data"
   ]
  },
  {
   "cell_type": "code",
   "execution_count": 3,
   "id": "74a427cb",
   "metadata": {},
   "outputs": [
    {
     "data": {
      "text/html": [
       "<div>\n",
       "<style scoped>\n",
       "    .dataframe tbody tr th:only-of-type {\n",
       "        vertical-align: middle;\n",
       "    }\n",
       "\n",
       "    .dataframe tbody tr th {\n",
       "        vertical-align: top;\n",
       "    }\n",
       "\n",
       "    .dataframe thead th {\n",
       "        text-align: right;\n",
       "    }\n",
       "</style>\n",
       "<table border=\"1\" class=\"dataframe\">\n",
       "  <thead>\n",
       "    <tr style=\"text-align: right;\">\n",
       "      <th></th>\n",
       "      <th>Year</th>\n",
       "      <th>Race</th>\n",
       "      <th>Sex</th>\n",
       "      <th>Average Life Expectancy (Years)</th>\n",
       "      <th>Age-adjusted Death Rate</th>\n",
       "    </tr>\n",
       "  </thead>\n",
       "  <tbody>\n",
       "    <tr>\n",
       "      <th>0</th>\n",
       "      <td>1900</td>\n",
       "      <td>All Races</td>\n",
       "      <td>Both Sexes</td>\n",
       "      <td>47.3</td>\n",
       "      <td>2,518.0</td>\n",
       "    </tr>\n",
       "    <tr>\n",
       "      <th>1</th>\n",
       "      <td>1901</td>\n",
       "      <td>All Races</td>\n",
       "      <td>Both Sexes</td>\n",
       "      <td>49.1</td>\n",
       "      <td>2,473.1</td>\n",
       "    </tr>\n",
       "    <tr>\n",
       "      <th>2</th>\n",
       "      <td>1902</td>\n",
       "      <td>All Races</td>\n",
       "      <td>Both Sexes</td>\n",
       "      <td>51.5</td>\n",
       "      <td>2,301.3</td>\n",
       "    </tr>\n",
       "  </tbody>\n",
       "</table>\n",
       "</div>"
      ],
      "text/plain": [
       "   Year       Race         Sex  Average Life Expectancy (Years)  \\\n",
       "0  1900  All Races  Both Sexes                             47.3   \n",
       "1  1901  All Races  Both Sexes                             49.1   \n",
       "2  1902  All Races  Both Sexes                             51.5   \n",
       "\n",
       "  Age-adjusted Death Rate  \n",
       "0                 2,518.0  \n",
       "1                 2,473.1  \n",
       "2                 2,301.3  "
      ]
     },
     "execution_count": 3,
     "metadata": {},
     "output_type": "execute_result"
    }
   ],
   "source": [
    "df.head(3)"
   ]
  },
  {
   "cell_type": "code",
   "execution_count": 4,
   "id": "8f7f4eb5",
   "metadata": {},
   "outputs": [
    {
     "name": "stdout",
     "output_type": "stream",
     "text": [
      "<class 'pandas.core.frame.DataFrame'>\n",
      "RangeIndex: 1071 entries, 0 to 1070\n",
      "Data columns (total 5 columns):\n",
      " #   Column                           Non-Null Count  Dtype  \n",
      "---  ------                           --------------  -----  \n",
      " 0   Year                             1071 non-null   int64  \n",
      " 1   Race                             1071 non-null   object \n",
      " 2   Sex                              1071 non-null   object \n",
      " 3   Average Life Expectancy (Years)  1065 non-null   float64\n",
      " 4   Age-adjusted Death Rate          1071 non-null   object \n",
      "dtypes: float64(1), int64(1), object(3)\n",
      "memory usage: 42.0+ KB\n"
     ]
    }
   ],
   "source": [
    "df.info()"
   ]
  },
  {
   "cell_type": "markdown",
   "id": "07e5d6e6",
   "metadata": {},
   "source": [
    "- Average Life Expectancy (Years)\n",
    "- Age-adjusted Death Rate (per 100,000 standard population)"
   ]
  },
  {
   "cell_type": "markdown",
   "id": "ab2f108f",
   "metadata": {},
   "source": [
    "# Data Cleaning"
   ]
  },
  {
   "cell_type": "code",
   "execution_count": 5,
   "id": "e79f2070",
   "metadata": {},
   "outputs": [],
   "source": [
    "def tweak_le(df):\n",
    "    return (df\n",
    "                .assign(Avg_life_expectancy = lambda df_: df_\n",
    "                           ['Average Life Expectancy (Years)']\n",
    "                           .interpolate(),\n",
    "                        Death_rate = lambda df_: df_\n",
    "                            ['Age-adjusted Death Rate']\n",
    "                            .str.replace(',', '')\n",
    "                            .astype('float16')\n",
    "                       )\n",
    "                .astype({col:'category' for col in ['Race', 'Sex']})\n",
    "                .drop(columns=['Average Life Expectancy (Years)',\n",
    "                               'Age-adjusted Death Rate'])\n",
    "           )"
   ]
  },
  {
   "cell_type": "code",
   "execution_count": 6,
   "id": "894287e5",
   "metadata": {},
   "outputs": [],
   "source": [
    "le = tweak_le(df)"
   ]
  },
  {
   "cell_type": "code",
   "execution_count": 7,
   "id": "6b990362",
   "metadata": {},
   "outputs": [
    {
     "name": "stdout",
     "output_type": "stream",
     "text": [
      "<class 'pandas.core.frame.DataFrame'>\n",
      "RangeIndex: 1071 entries, 0 to 1070\n",
      "Data columns (total 5 columns):\n",
      " #   Column               Non-Null Count  Dtype   \n",
      "---  ------               --------------  -----   \n",
      " 0   Year                 1071 non-null   int64   \n",
      " 1   Race                 1071 non-null   category\n",
      " 2   Sex                  1071 non-null   category\n",
      " 3   Avg_life_expectancy  1071 non-null   float64 \n",
      " 4   Death_rate           1071 non-null   float16 \n",
      "dtypes: category(2), float16(1), float64(1), int64(1)\n",
      "memory usage: 21.3 KB\n"
     ]
    }
   ],
   "source": [
    "le.info()"
   ]
  },
  {
   "cell_type": "code",
   "execution_count": 8,
   "id": "5603e62a",
   "metadata": {},
   "outputs": [
    {
     "data": {
      "text/html": [
       "<div>\n",
       "<style scoped>\n",
       "    .dataframe tbody tr th:only-of-type {\n",
       "        vertical-align: middle;\n",
       "    }\n",
       "\n",
       "    .dataframe tbody tr th {\n",
       "        vertical-align: top;\n",
       "    }\n",
       "\n",
       "    .dataframe thead th {\n",
       "        text-align: right;\n",
       "    }\n",
       "</style>\n",
       "<table border=\"1\" class=\"dataframe\">\n",
       "  <thead>\n",
       "    <tr style=\"text-align: right;\">\n",
       "      <th></th>\n",
       "      <th>Year</th>\n",
       "      <th>Race</th>\n",
       "      <th>Sex</th>\n",
       "      <th>Avg_life_expectancy</th>\n",
       "      <th>Death_rate</th>\n",
       "    </tr>\n",
       "  </thead>\n",
       "  <tbody>\n",
       "    <tr>\n",
       "      <th>0</th>\n",
       "      <td>1900</td>\n",
       "      <td>All Races</td>\n",
       "      <td>Both Sexes</td>\n",
       "      <td>47.3</td>\n",
       "      <td>2518.0</td>\n",
       "    </tr>\n",
       "    <tr>\n",
       "      <th>1</th>\n",
       "      <td>1901</td>\n",
       "      <td>All Races</td>\n",
       "      <td>Both Sexes</td>\n",
       "      <td>49.1</td>\n",
       "      <td>2474.0</td>\n",
       "    </tr>\n",
       "    <tr>\n",
       "      <th>2</th>\n",
       "      <td>1902</td>\n",
       "      <td>All Races</td>\n",
       "      <td>Both Sexes</td>\n",
       "      <td>51.5</td>\n",
       "      <td>2302.0</td>\n",
       "    </tr>\n",
       "    <tr>\n",
       "      <th>3</th>\n",
       "      <td>1903</td>\n",
       "      <td>All Races</td>\n",
       "      <td>Both Sexes</td>\n",
       "      <td>50.5</td>\n",
       "      <td>2380.0</td>\n",
       "    </tr>\n",
       "    <tr>\n",
       "      <th>4</th>\n",
       "      <td>1904</td>\n",
       "      <td>All Races</td>\n",
       "      <td>Both Sexes</td>\n",
       "      <td>47.6</td>\n",
       "      <td>2502.0</td>\n",
       "    </tr>\n",
       "  </tbody>\n",
       "</table>\n",
       "</div>"
      ],
      "text/plain": [
       "   Year       Race         Sex  Avg_life_expectancy  Death_rate\n",
       "0  1900  All Races  Both Sexes                 47.3      2518.0\n",
       "1  1901  All Races  Both Sexes                 49.1      2474.0\n",
       "2  1902  All Races  Both Sexes                 51.5      2302.0\n",
       "3  1903  All Races  Both Sexes                 50.5      2380.0\n",
       "4  1904  All Races  Both Sexes                 47.6      2502.0"
      ]
     },
     "execution_count": 8,
     "metadata": {},
     "output_type": "execute_result"
    }
   ],
   "source": [
    "le.head()"
   ]
  },
  {
   "cell_type": "markdown",
   "id": "0a8d8002",
   "metadata": {},
   "source": [
    "# Exploratory Data Analysis"
   ]
  },
  {
   "cell_type": "code",
   "execution_count": 16,
   "id": "cea2b417",
   "metadata": {},
   "outputs": [
    {
     "data": {
      "image/png": "[encoded data removed]",
      "text/plain": [
       "<Figure size 576x432 with 1 Axes>"
      ]
     },
     "metadata": {},
     "output_type": "display_data"
    }
   ],
   "source": [
    "with plt.style.context('fivethirtyeight'):\n",
    "    fig, ax = plt.subplots(figsize=(8,6))\n",
    "    \n",
    "    (le\n",
    "         .pivot_table(index='Year',\n",
    "                      columns='Sex',\n",
    "                      values='Avg_life_expectancy')\n",
    "         .loc[1980:]\n",
    "         .plot(ax=ax)\n",
    "    )\n",
    "    \n",
    "    ax.set_ylabel('Life Expectancy (Years)')\n",
    "    ax.set_title('Overall Life Expectancy at Birth in Years')\n",
    "    \n",
    "plt.savefig('Life Expectancy.jpg')"
   ]
  },
  {
   "cell_type": "code",
   "execution_count": null,
   "id": "5ce6d2e4",
   "metadata": {},
   "outputs": [],
   "source": []
  }
 ],
 "metadata": {
  "kernelspec": {
   "display_name": "Python 3 (ipykernel)",
   "language": "python",
   "name": "python3"
  },
  "language_info": {
   "codemirror_mode": {
    "name": "ipython",
    "version": 3
   },
   "file_extension": ".py",
   "mimetype": "text/x-python",
   "name": "python",
   "nbconvert_exporter": "python",
   "pygments_lexer": "ipython3",
   "version": "3.8.10"
  }
 },
 "nbformat": 4,
 "nbformat_minor": 5
}
